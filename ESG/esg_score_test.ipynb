{
 "cells": [
  {
   "cell_type": "code",
   "execution_count": 86,
   "metadata": {
    "collapsed": true,
    "pycharm": {
     "is_executing": false
    }
   },
   "outputs": [],
   "source": [
    "import numpy as np\n",
    "import pandas as pd"
   ]
  },
  {
   "cell_type": "code",
   "execution_count": 87,
   "outputs": [],
   "source": [
    "DPath = r'D:\\QuantData'"
   ],
   "metadata": {
    "collapsed": false,
    "pycharm": {
     "name": "#%%\n",
     "is_executing": false
    }
   }
  },
  {
   "cell_type": "code",
   "execution_count": 88,
   "outputs": [],
   "source": [
    "history = pd.read_csv(DPath + r'\\daily_history.csv')[['stock_code', 'date', 'close']]\n",
    "score = pd.read_csv(DPath + r'\\ESG\\score.csv')\n",
    "score = score.sort_values(by=['STOCK_CODE']).reset_index(drop=True)"
   ],
   "metadata": {
    "collapsed": false,
    "pycharm": {
     "name": "#%%\n",
     "is_executing": false
    }
   }
  },
  {
   "cell_type": "code",
   "execution_count": 89,
   "outputs": [],
   "source": [
    "rr = history.groupby(by=['stock_code']).apply(lambda x: x['close'].values[0] / x['close'].values[-1] - 1)"
   ],
   "metadata": {
    "collapsed": false,
    "pycharm": {
     "name": "#%%\n",
     "is_executing": false
    }
   }
  },
  {
   "cell_type": "code",
   "execution_count": 90,
   "outputs": [
    {
     "data": {
      "text/plain": "(800,)"
     },
     "metadata": {},
     "output_type": "execute_result",
     "execution_count": 90
    }
   ],
   "source": [
    "pd.unique(history['stock_code']).shape"
   ],
   "metadata": {
    "collapsed": false,
    "pycharm": {
     "name": "#%%\n",
     "is_executing": false
    }
   }
  },
  {
   "cell_type": "code",
   "execution_count": 91,
   "outputs": [],
   "source": [
    "threshold = np.quantile(score['ESG_score'], [.2, .4, .6, .8])"
   ],
   "metadata": {
    "collapsed": false,
    "pycharm": {
     "name": "#%%\n",
     "is_executing": false
    }
   }
  },
  {
   "cell_type": "code",
   "execution_count": 92,
   "outputs": [],
   "source": [
    "def g(s):\n",
    "    for i in range(4):\n",
    "        if s <= threshold[i]:\n",
    "            return i\n",
    "    return 4\n",
    "group = [g(s) for s in score['ESG_score']]"
   ],
   "metadata": {
    "collapsed": false,
    "pycharm": {
     "name": "#%%\n",
     "is_executing": false
    }
   }
  },
  {
   "cell_type": "code",
   "execution_count": 94,
   "outputs": [
    {
     "data": {
      "text/plain": "True"
     },
     "metadata": {},
     "output_type": "execute_result",
     "execution_count": 94
    }
   ],
   "source": [
    "set(score['STOCK_CODE'].values) == set(rr.index.values)"
   ],
   "metadata": {
    "collapsed": false,
    "pycharm": {
     "name": "#%%\n",
     "is_executing": false
    }
   }
  },
  {
   "cell_type": "code",
   "execution_count": 95,
   "outputs": [
    {
     "data": {
      "text/plain": "<matplotlib.colorbar.Colorbar at 0x1a410eec9b0>"
     },
     "metadata": {},
     "output_type": "execute_result",
     "execution_count": 95
    },
    {
     "data": {
      "text/plain": "<Figure size 432x288 with 2 Axes>",
      "image/png": "[encoded data removed]"
     },
     "metadata": {
      "needs_background": "light"
     },
     "output_type": "display_data"
    }
   ],
   "source": [
    "import matplotlib.pyplot as plt\n",
    "\n",
    "\n",
    "plt.scatter(score['ESG_score'], rr, c=score['ESG_score'])\n",
    "plt.colorbar()"
   ],
   "metadata": {
    "collapsed": false,
    "pycharm": {
     "name": "#%%\n",
     "is_executing": false
    }
   }
  },
  {
   "cell_type": "code",
   "execution_count": 96,
   "outputs": [
    {
     "data": {
      "text/plain": "{'whiskers': [<matplotlib.lines.Line2D at 0x1a40a88ef60>,\n  <matplotlib.lines.Line2D at 0x1a40abab5c0>,\n  <matplotlib.lines.Line2D at 0x1a40ab949b0>,\n  <matplotlib.lines.Line2D at 0x1a40ab94cf8>,\n  <matplotlib.lines.Line2D at 0x1a40ac33cf8>,\n  <matplotlib.lines.Line2D at 0x1a40ac49470>,\n  <matplotlib.lines.Line2D at 0x1a40ac68860>,\n  <matplotlib.lines.Line2D at 0x1a40ac68ba8>,\n  <matplotlib.lines.Line2D at 0x1a40ac6bf98>,\n  <matplotlib.lines.Line2D at 0x1a40ac6bef0>],\n 'caps': [<matplotlib.lines.Line2D at 0x1a40abab908>,\n  <matplotlib.lines.Line2D at 0x1a40ababc50>,\n  <matplotlib.lines.Line2D at 0x1a40ab94da0>,\n  <matplotlib.lines.Line2D at 0x1a40ac333c8>,\n  <matplotlib.lines.Line2D at 0x1a40ac497b8>,\n  <matplotlib.lines.Line2D at 0x1a40ac49b00>,\n  <matplotlib.lines.Line2D at 0x1a40ac68ef0>,\n  <matplotlib.lines.Line2D at 0x1a40ac68e48>,\n  <matplotlib.lines.Line2D at 0x1a40a307668>,\n  <matplotlib.lines.Line2D at 0x1a40a3079b0>],\n 'boxes': [<matplotlib.lines.Line2D at 0x1a40a88ee10>,\n  <matplotlib.lines.Line2D at 0x1a40ab94668>,\n  <matplotlib.lines.Line2D at 0x1a40ac33da0>,\n  <matplotlib.lines.Line2D at 0x1a40ac68518>,\n  <matplotlib.lines.Line2D at 0x1a40ac6bc50>],\n 'medians': [<matplotlib.lines.Line2D at 0x1a40ababf98>,\n  <matplotlib.lines.Line2D at 0x1a40ac33710>,\n  <matplotlib.lines.Line2D at 0x1a40ac49e48>,\n  <matplotlib.lines.Line2D at 0x1a40ac6b5c0>,\n  <matplotlib.lines.Line2D at 0x1a40a307cf8>],\n 'fliers': [<matplotlib.lines.Line2D at 0x1a40ababef0>,\n  <matplotlib.lines.Line2D at 0x1a40ac33a58>,\n  <matplotlib.lines.Line2D at 0x1a40ac49da0>,\n  <matplotlib.lines.Line2D at 0x1a40ac6b908>,\n  <matplotlib.lines.Line2D at 0x1a40a307da0>],\n 'means': []}"
     },
     "metadata": {},
     "output_type": "execute_result",
     "execution_count": 96
    },
    {
     "data": {
      "text/plain": "<Figure size 432x288 with 1 Axes>",
      "image/png": "[encoded data removed]"
     },
     "metadata": {
      "needs_background": "light"
     },
     "output_type": "display_data"
    }
   ],
   "source": [
    "plt.boxplot([rr[np.array(group) == i].values for i in range(5)])"
   ],
   "metadata": {
    "collapsed": false,
    "pycharm": {
     "name": "#%%\n",
     "is_executing": false
    }
   }
  },
  {
   "cell_type": "code",
   "execution_count": 107,
   "outputs": [],
   "source": [
    "risk = history.groupby(by=['stock_code']).apply(lambda x: np.std(x['close'].values / x['close'].values[-1] - 1))"
   ],
   "metadata": {
    "collapsed": false,
    "pycharm": {
     "name": "#%%\n",
     "is_executing": false
    }
   }
  },
  {
   "cell_type": "code",
   "execution_count": 108,
   "outputs": [
    {
     "data": {
      "text/plain": "{'whiskers': [<matplotlib.lines.Line2D at 0x1a40a555208>,\n  <matplotlib.lines.Line2D at 0x1a40a625940>,\n  <matplotlib.lines.Line2D at 0x1a40a63b160>,\n  <matplotlib.lines.Line2D at 0x1a40a6302b0>,\n  <matplotlib.lines.Line2D at 0x1a40a5a42b0>,\n  <matplotlib.lines.Line2D at 0x1a40a597ef0>,\n  <matplotlib.lines.Line2D at 0x1a40a60c748>,\n  <matplotlib.lines.Line2D at 0x1a40a601cf8>,\n  <matplotlib.lines.Line2D at 0x1a40a5f47f0>,\n  <matplotlib.lines.Line2D at 0x1a40a5e9c18>],\n 'caps': [<matplotlib.lines.Line2D at 0x1a40a625dd8>,\n  <matplotlib.lines.Line2D at 0x1a40a625400>,\n  <matplotlib.lines.Line2D at 0x1a40a630a20>,\n  <matplotlib.lines.Line2D at 0x1a413305978>,\n  <matplotlib.lines.Line2D at 0x1a40a5972b0>,\n  <matplotlib.lines.Line2D at 0x1a40a5977f0>,\n  <matplotlib.lines.Line2D at 0x1a40a601898>,\n  <matplotlib.lines.Line2D at 0x1a40a6010b8>,\n  <matplotlib.lines.Line2D at 0x1a40a5e9d30>,\n  <matplotlib.lines.Line2D at 0x1a40a5e9358>],\n 'boxes': [<matplotlib.lines.Line2D at 0x1a40a5b0f98>,\n  <matplotlib.lines.Line2D at 0x1a40a63b2e8>,\n  <matplotlib.lines.Line2D at 0x1a40a5a4208>,\n  <matplotlib.lines.Line2D at 0x1a40a60c160>,\n  <matplotlib.lines.Line2D at 0x1a40a5f45f8>],\n 'medians': [<matplotlib.lines.Line2D at 0x1a40a625240>,\n  <matplotlib.lines.Line2D at 0x1a40a5a4a20>,\n  <matplotlib.lines.Line2D at 0x1a40a60c780>,\n  <matplotlib.lines.Line2D at 0x1a40a5f4a20>,\n  <matplotlib.lines.Line2D at 0x1a40a5e9550>],\n 'fliers': [<matplotlib.lines.Line2D at 0x1a40a63b0f0>,\n  <matplotlib.lines.Line2D at 0x1a40a5a4e80>,\n  <matplotlib.lines.Line2D at 0x1a40a60cef0>,\n  <matplotlib.lines.Line2D at 0x1a40a5f4fd0>,\n  <matplotlib.lines.Line2D at 0x1a40a5dee10>],\n 'means': []}"
     },
     "metadata": {},
     "output_type": "execute_result",
     "execution_count": 108
    },
    {
     "data": {
      "text/plain": "<Figure size 432x288 with 1 Axes>",
      "image/png": "[encoded data removed]"
     },
     "metadata": {
      "needs_background": "light"
     },
     "output_type": "display_data"
    }
   ],
   "source": [
    "plt.boxplot([risk[np.array(group) == i].values for i in range(5)])"
   ],
   "metadata": {
    "collapsed": false,
    "pycharm": {
     "name": "#%%\n",
     "is_executing": false
    }
   }
  },
  {
   "cell_type": "code",
   "execution_count": 109,
   "outputs": [],
   "source": [
    "m = history.groupby(by=['stock_code']).apply(lambda x: x['close'].values / x['close'].values[-1])\n",
    "\n",
    " #%%\n",
    "\n",
    "\n"
   ],
   "metadata": {
    "collapsed": false,
    "pycharm": {
     "name": "#%%\n",
     "is_executing": false
    }
   }
  }
 ],
 "metadata": {
  "kernelspec": {
   "display_name": "Python 3",
   "language": "python",
   "name": "python3"
  },
  "language_info": {
   "codemirror_mode": {
    "name": "ipython",
    "version": 2
   },
   "file_extension": ".py",
   "mimetype": "text/x-python",
   "name": "python",
   "nbconvert_exporter": "python",
   "pygments_lexer": "ipython2",
   "version": "2.7.6"
  },
  "pycharm": {
   "stem_cell": {
    "cell_type": "raw",
    "source": [],
    "metadata": {
     "collapsed": false
    }
   }
  }
 },
 "nbformat": 4,
 "nbformat_minor": 0
}