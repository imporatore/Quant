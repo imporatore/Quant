{
 "cells": [
  {
   "cell_type": "code",
   "execution_count": 0,
   "metadata": {
    "collapsed": true,
    "pycharm": {
     "is_executing": false
    }
   },
   "outputs": [],
   "source": []
  },
  {
   "cell_type": "code",
   "execution_count": 1,
   "outputs": [],
   "source": [
    "import os\n",
    "\n",
    "import numpy as np\n",
    "import pandas as pd\n",
    "\n",
    "from utils.plot import plt"
   ],
   "metadata": {
    "collapsed": false,
    "pycharm": {
     "name": "#%%\n",
     "is_executing": false
    }
   }
  },
  {
   "cell_type": "code",
   "execution_count": 2,
   "outputs": [],
   "source": [
    "from ESG.config import PROCESSED_DATA_DIR, FIGURE_DIR, RESULT_DIR\n",
    "from utils.data_porter import save_to_csv"
   ],
   "metadata": {
    "collapsed": false,
    "pycharm": {
     "name": "#%%\n",
     "is_executing": false
    }
   }
  },
  {
   "cell_type": "code",
   "execution_count": 12,
   "outputs": [],
   "source": [
    "esg_alter = pd.read_csv(os.path.join(PROCESSED_DATA_DIR, 'sz_esg_alter_events.csv'),\n",
    "                        dtype={'INDICATOR_CODE': str, 'TICKER': str},\n",
    "                        parse_dates=['OCCUR_DATE', 'PUBLISH_DATE'])\n",
    "esg_alter = esg_alter[['SECURITY_NAME', 'TICKER', 'INDICATOR_CODE', 'POLARITY', 'ESG_TYPE', 'EVENT_TYPE',\n",
    "                       'NUM_VALUE', 'PUBLISH_DATE', 'OCCUR_DATE', 'PROVINCE', 'CITY']]"
   ],
   "metadata": {
    "collapsed": false,
    "pycharm": {
     "name": "#%%\n",
     "is_executing": false
    }
   }
  },
  {
   "cell_type": "code",
   "execution_count": 13,
   "outputs": [],
   "source": [
    "esg_alter['INDICATOR_LEVEL1'] = esg_alter['INDICATOR_CODE'].apply(lambda x: x[:3])\n",
    "esg_alter['INDICATOR_LEVEL2'] = esg_alter['INDICATOR_CODE'].apply(lambda x: x[:6])\n",
    "  "
   ],
   "metadata": {
    "collapsed": false,
    "pycharm": {
     "name": "#%%\n",
     "is_executing": false
    }
   }
  },
  {
   "cell_type": "code",
   "execution_count": 14,
   "outputs": [],
   "source": [
    "esg_alter['OCCUR_YEAR'] = esg_alter['OCCUR_DATE'].apply(lambda x: x.year)\n",
    "esg_alter['PUBLISH_YEAR'] = esg_alter['PUBLISH_DATE'].apply(lambda x: x.year)"
   ],
   "metadata": {
    "collapsed": false,
    "pycharm": {
     "name": "#%%\n",
     "is_executing": false
    }
   }
  },
  {
   "cell_type": "code",
   "execution_count": 15,
   "outputs": [
    {
     "data": {
      "text/plain": "SECURITY_NAME            0\nTICKER                   0\nINDICATOR_CODE           0\nPOLARITY                 0\nESG_TYPE                 0\nEVENT_TYPE           15229\nNUM_VALUE                0\nPUBLISH_DATE        181541\nOCCUR_DATE               0\nPROVINCE            170259\nCITY                176614\nINDICATOR_LEVEL1         0\nINDICATOR_LEVEL2         0\nOCCUR_YEAR               0\nPUBLISH_YEAR        181541\ndtype: int64"
     },
     "metadata": {},
     "output_type": "execute_result",
     "execution_count": 15
    }
   ],
   "source": [
    "esg_alter.isna().sum()"
   ],
   "metadata": {
    "collapsed": false,
    "pycharm": {
     "name": "#%%\n",
     "is_executing": false
    }
   }
  },
  {
   "cell_type": "code",
   "execution_count": 17,
   "outputs": [
    {
     "data": {
      "text/plain": "889"
     },
     "metadata": {},
     "output_type": "execute_result",
     "execution_count": 17
    }
   ],
   "source": [
    "len(pd.unique(esg_alter['EVENT_TYPE']))"
   ],
   "metadata": {
    "collapsed": false,
    "pycharm": {
     "name": "#%%\n",
     "is_executing": false
    }
   }
  },
  {
   "cell_type": "code",
   "execution_count": 35,
   "outputs": [],
   "source": [
    "event_num = esg_alter.loc[~esg_alter['EVENT_TYPE'].isna(), :].groupby(by=['EVENT_TYPE']).apply(len).sort_values(ascending=False)\n",
    "top_event_types = event_num.index[:20]\n",
    "esg_alter"
   ],
   "metadata": {
    "collapsed": false,
    "pycharm": {
     "name": "#%%\n",
     "is_executing": false
    }
   }
  },
  {
   "cell_type": "code",
   "execution_count": 27,
   "outputs": [
    {
     "data": {
      "text/plain": "0         False\n1         False\n2         False\n3         False\n4         False\n          ...  \n201865    False\n201866    False\n201867    False\n201868    False\n201869    False\nName: EVENT_TYPE, Length: 201870, dtype: bool"
     },
     "metadata": {},
     "output_type": "execute_result",
     "execution_count": 27
    }
   ],
   "source": [
    "esg_alter['EVENT_TYPE'].isna()"
   ],
   "metadata": {
    "collapsed": false,
    "pycharm": {
     "name": "#%%\n",
     "is_executing": false
    }
   }
  },
  {
   "cell_type": "code",
   "execution_count": 47,
   "outputs": [
    {
     "data": {
      "text/plain": "0.7909784023874711"
     },
     "metadata": {},
     "output_type": "execute_result",
     "execution_count": 47
    }
   ],
   "source": [
    "sum(event_num.values[:40]) / sum(event_num.values)"
   ],
   "metadata": {
    "collapsed": false,
    "pycharm": {
     "name": "#%%\n",
     "is_executing": false
    }
   }
  },
  {
   "cell_type": "code",
   "execution_count": 45,
   "outputs": [
    {
     "data": {
      "text/plain": "EVENT_TYPE\n买卖合同纠纷                      30420\nESG_PUNISHMENT_TAG_FINE     13225\n劳动争议                        11440\n证券虚假陈述责任纠纷                  10609\nIRREGULAR_INQUIRY_LETTER    10224\n                            ...  \n拒绝交易纠纷                          1\n拒不执行判决罪                         1\n办理《失业人员档案传递单》纠纷                 1\n证券登记、存管、结算纠纷                    1\n决议效力纠纷                          1\nLength: 888, dtype: int64"
     },
     "metadata": {},
     "output_type": "execute_result",
     "execution_count": 45
    }
   ],
   "source": [
    "event_num"
   ],
   "metadata": {
    "collapsed": false,
    "pycharm": {
     "name": "#%%\n",
     "is_executing": false
    }
   }
  },
  {
   "cell_type": "code",
   "execution_count": null,
   "outputs": [],
   "source": [
    "\n"
   ],
   "metadata": {
    "collapsed": false,
    "pycharm": {
     "name": "#%%\n"
    }
   }
  }
 ],
 "metadata": {
  "kernelspec": {
   "display_name": "Python 3",
   "language": "python",
   "name": "python3"
  },
  "language_info": {
   "codemirror_mode": {
    "name": "ipython",
    "version": 2
   },
   "file_extension": ".py",
   "mimetype": "text/x-python",
   "name": "python",
   "nbconvert_exporter": "python",
   "pygments_lexer": "ipython2",
   "version": "2.7.6"
  },
  "pycharm": {
   "stem_cell": {
    "cell_type": "raw",
    "source": [],
    "metadata": {
     "collapsed": false
    }
   }
  }
 },
 "nbformat": 4,
 "nbformat_minor": 0
}