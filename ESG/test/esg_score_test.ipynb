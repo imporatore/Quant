{
 "cells": [
  {
   "cell_type": "code",
   "execution_count": 1,
   "metadata": {
    "collapsed": true,
    "pycharm": {
     "is_executing": false
    }
   },
   "outputs": [],
   "source": [
    "import os\n",
    "\n",
    "import numpy as np\n",
    "import pandas as pd\n",
    "\n",
    "import matplotlib.pyplot as plt\n",
    "\n",
    "plt.rcParams['font.sans-serif'] = ['SimHei']\n",
    "plt.rcParams['axes.unicode_minus'] = False"
   ]
  },
  {
   "cell_type": "code",
   "execution_count": 2,
   "outputs": [],
   "source": [
    "from ESG.config import TEST_DATA_DIR, RAW_DATA_DIR, FIGURE_DIR, RESULT_DIR\n",
    "from utils.data_porter import save_to_csv"
   ],
   "metadata": {
    "collapsed": false,
    "pycharm": {
     "name": "#%%\n",
     "is_executing": false
    }
   }
  },
  {
   "cell_type": "code",
   "execution_count": 4,
   "outputs": [],
   "source": [
    "zz_stock_df = pd.read_csv(os.path.join(RAW_DATA_DIR, 'stock300_500.csv'))\n",
    "score_df = pd.read_csv(os.path.join(TEST_DATA_DIR, 'esg_score_202012.csv'))\n",
    "total_score_df = score_df\n",
    "zz_score_df = pd.merge(zz_stock_df, score_df, how='left', on='STOCK_CODE')"
   ],
   "metadata": {
    "collapsed": false,
    "pycharm": {
     "name": "#%%\n",
     "is_executing": false
    }
   }
  },
  {
   "cell_type": "code",
   "execution_count": 7,
   "outputs": [],
   "source": [
    "a = zz_score_df.groupby(by=['REPORT_YEAR'])"
   ],
   "metadata": {
    "collapsed": false,
    "pycharm": {
     "name": "#%%\n",
     "is_executing": false
    }
   }
  },
  {
   "cell_type": "code",
   "execution_count": 9,
   "outputs": [],
   "source": [
    "def get_params_df_bars(df, group_by, bins=10, **kwargs):\n",
    "    if type(df) == list:\n",
    "        dfs = df\n",
    "        groups = group_by\n",
    "    elif not group_by:\n",
    "        dfs = [df]\n",
    "        groups = ['total',]\n",
    "    else:\n",
    "        groups = df.groupby(by=group_by).groups\n",
    "        dfs = [df.iloc[groups[i]] for i in groups]\n",
    "    return np.array([plt.hist(df['ESG_SCORE'], bins=bins, **kwargs)[0] for df in dfs]), [i for i in groups]"
   ],
   "metadata": {
    "collapsed": false,
    "pycharm": {
     "name": "#%%\n",
     "is_executing": false
    }
   }
  },
  {
   "cell_type": "code",
   "execution_count": 10,
   "outputs": [],
   "source": [
    "def plot_bars(freq, groups, fname, colors=tuple()):\n",
    "    n_dfs = freq.shape[0]\n",
    "    n_bins = freq.shape[1]\n",
    "    width = 1 / (1 + n_dfs)\n",
    "    for i in range(n_dfs):\n",
    "        plt.bar((width * i + np.arange(n_bins) + .3)/10, freq[i] * 10.,\n",
    "                width=width/10, label=groups[i], color=colors[i])\n",
    "    plt.title(fname)\n",
    "    plt.legend()\n",
    "    plt.xticks([.1, .3, .5, .7, .9])\n",
    "    plt.xlabel('ESG评分')\n",
    "    plt.ylabel('整体占比(%)')\n",
    "    plt.savefig(os.path.join(FIGURE_DIR, fname+'.png'))"
   ],
   "metadata": {
    "collapsed": false,
    "pycharm": {
     "name": "#%%\n",
     "is_executing": false
    }
   }
  },
  {
   "cell_type": "markdown",
   "source": [
    "下图及相似图像均无实际意义，仅为程序中间结果所作。"
   ],
   "metadata": {
    "collapsed": false,
    "pycharm": {
     "name": "#%% md\n",
     "is_executing": false
    }
   }
  },
  {
   "cell_type": "code",
   "execution_count": 11,
   "outputs": [
    {
     "name": "stderr",
     "text": [
      "C:\\Users\\10915\\Anaconda3\\lib\\site-packages\\matplotlib\\axes\\_axes.py:6521: MatplotlibDeprecationWarning: \nThe 'normed' kwarg was deprecated in Matplotlib 2.1 and will be removed in 3.1. Use 'density' instead.\n  alternative=\"'density'\", removal=\"3.1\")\n"
     ],
     "output_type": "stream"
    },
    {
     "data": {
      "text/plain": "<Figure size 432x288 with 1 Axes>",
      "image/png": "[encoded data removed]"
     },
     "metadata": {
      "needs_background": "light"
     },
     "output_type": "display_data"
    }
   ],
   "source": [
    "total_params = get_params_df_bars(total_score_df, group_by=['REPORT_YEAR'], normed=True)"
   ],
   "metadata": {
    "collapsed": false,
    "pycharm": {
     "name": "#%%\n",
     "is_executing": false
    }
   }
  },
  {
   "cell_type": "code",
   "execution_count": 12,
   "outputs": [
    {
     "data": {
      "text/plain": "<Figure size 432x288 with 1 Axes>",
      "image/png": "[encoded data removed]"
     },
     "metadata": {
      "needs_background": "light"
     },
     "output_type": "display_data"
    }
   ],
   "source": [
    "plot_bars(*total_params, 'A股ESG评分分布及年度对比', colors=('#ADD8E6', '#87CEEB', '#4682B4'))"
   ],
   "metadata": {
    "collapsed": false,
    "pycharm": {
     "name": "#%%\n",
     "is_executing": false
    }
   }
  },
  {
   "cell_type": "markdown",
   "source": [
    "ESG评分均为0-1之间，上图中横轴代表ESG评分，分别以0.1为间隔分为10组，纵轴代表对应ESG得分股票在整体中的占比。\n",
    "\n",
    "我们可以发现，2017及2018年,A股整体ESG评分偏低，仅有约20%ESG评分高于0.3且从2017至2018年ESG评分提升并不明显，得分为0.9以上的企业并未增加。\n",
    "\n",
    "2019年，ESG评分呈现大幅上涨，A股中ESG评分在0.2以下的占比大幅减少，并有约50%ESG得分位于0.2-0.6之间。同时，ESG得分>0.6的领先企业\n",
    "相比于2018年增长了一倍。"
   ],
   "metadata": {
    "collapsed": false,
    "pycharm": {
     "name": "#%% md\n"
    }
   }
  },
  {
   "cell_type": "code",
   "execution_count": 22,
   "outputs": [
    {
     "data": {
      "text/plain": "<Figure size 432x288 with 1 Axes>",
      "image/png": "[encoded data removed]"
     },
     "metadata": {
      "needs_background": "light"
     },
     "output_type": "display_data"
    }
   ],
   "source": [
    "zz_params = get_params_df_bars(zz_score_df, group_by=['REPORT_YEAR'], normed=True)"
   ],
   "metadata": {
    "collapsed": false,
    "pycharm": {
     "name": "#%%\n",
     "is_executing": false
    }
   }
  },
  {
   "cell_type": "code",
   "execution_count": 23,
   "outputs": [
    {
     "data": {
      "text/plain": "<Figure size 432x288 with 1 Axes>",
      "image/png": "[encoded data removed]"
     },
     "metadata": {
      "needs_background": "light"
     },
     "output_type": "display_data"
    }
   ],
   "source": [
    "plot_bars(*zz_params, '中证800ESG评分分布及年度对比', colors=('#ADD8E6', '#87CEEB', '#4682B4'))"
   ],
   "metadata": {
    "collapsed": false,
    "pycharm": {
     "name": "#%%\n",
     "is_executing": false
    }
   }
  },
  {
   "cell_type": "markdown",
   "source": [
    "相比于整体A股，中证800ESG得分普遍较高，2017年便有40%ESG得分高于0.3，是同期A股的两倍。\n",
    "然而， 2017-2018年间，中证800ESG得分同样没有表现出明显上涨。\n",
    "\n",
    "2019年，中证800ESG评分也呈现大幅上涨，ESG评分在0.2以下的占比大幅减少，约为7%。\n",
    "同时约50%ESG得分位于0.2-0.6之间。同时，ESG得分>0.9的领先企业从2018年的4%上升到了17%。"
   ],
   "metadata": {
    "collapsed": false
   }
  },
  {
   "cell_type": "code",
   "execution_count": 25,
   "outputs": [
    {
     "name": "stderr",
     "text": [
      "C:\\Users\\10915\\Anaconda3\\lib\\site-packages\\matplotlib\\axes\\_axes.py:6521: MatplotlibDeprecationWarning: \nThe 'normed' kwarg was deprecated in Matplotlib 2.1 and will be removed in 3.1. Use 'density' instead.\n  alternative=\"'density'\", removal=\"3.1\")\n"
     ],
     "output_type": "stream"
    },
    {
     "data": {
      "text/plain": "<Figure size 432x288 with 1 Axes>",
      "image/png": "[encoded data removed]"
     },
     "metadata": {
      "needs_background": "light"
     },
     "output_type": "display_data"
    }
   ],
   "source": [
    "compare_params = get_params_df_bars([total_score_df[total_score_df['REPORT_YEAR']==2019],\n",
    "                                     zz_score_df[zz_score_df['REPORT_YEAR']==2019]], group_by=['A股', '中证800'], normed=True)"
   ],
   "metadata": {
    "collapsed": false,
    "pycharm": {
     "name": "#%%\n",
     "is_executing": false
    }
   }
  },
  {
   "cell_type": "code",
   "execution_count": 26,
   "outputs": [
    {
     "data": {
      "text/plain": "<Figure size 432x288 with 1 Axes>",
      "image/png": "[encoded data removed]"
     },
     "metadata": {
      "needs_background": "light"
     },
     "output_type": "display_data"
    }
   ],
   "source": [
    "plot_bars(*compare_params, '2019年中证800及A股ESG对比', colors=('#87CEEB', '#4682B4'))"
   ],
   "metadata": {
    "collapsed": false,
    "pycharm": {
     "name": "#%%\n",
     "is_executing": false
    }
   }
  },
  {
   "cell_type": "markdown",
   "source": [
    "2019年，中证800较A股ESG表现更优，在ESG评分领先企业中占比显著高于A股。"
   ],
   "metadata": {
    "collapsed": false,
    "pycharm": {
     "name": "#%% md\n"
    }
   }
  },
  {
   "cell_type": "code",
   "execution_count": 12,
   "outputs": [],
   "source": [
    "def industry_esg_overview(df):\n",
    "    grouped = df.groupby(by=['INDUSTRY', 'REPORT_YEAR'])['ESG_SCORE']\n",
    "    cols = ['observations', 'max', 'min', 'mean', 'median', 'std.', 'increase%']\n",
    "    obs_df = grouped.apply(len)\n",
    "    max_df = grouped.apply(np.max)\n",
    "    min_df = grouped.apply(np.min)\n",
    "    mean_df = grouped.apply(np.mean)\n",
    "    median_df = grouped.apply(np.median)\n",
    "    std_df = grouped.apply(np.std)\n",
    "    increase_percent = [(mean_df.values[i] / mean_df.values[i-1] - 1) * 100. \n",
    "                        if i % 3 != 0 else np.nan for i in range(mean_df.shape[0])]\n",
    "    overview_df = pd.DataFrame(np.array([obs_df.values, \n",
    "                                         max_df.values, \n",
    "                                         min_df.values, \n",
    "                                         mean_df.values, \n",
    "                                         median_df.values, \n",
    "                                         std_df.values,\n",
    "                                         increase_percent]).T,\n",
    "                               columns=cols,\n",
    "                               index=obs_df.index)\n",
    "    overview_df['observations'] = pd.Series(overview_df['observations'], dtype='int32')\n",
    "    return overview_df"
   ],
   "metadata": {
    "collapsed": false,
    "pycharm": {
     "name": "#%%\n",
     "is_executing": false
    }
   }
  },
  {
   "cell_type": "code",
   "execution_count": 13,
   "outputs": [],
   "source": [
    "zz_industry_overview = industry_esg_overview(zz_score_df)\n",
    "save_to_csv(zz_industry_overview, RESULT_DIR, fname='中证800行业年度ESG基本信息', index=True)"
   ],
   "metadata": {
    "collapsed": false,
    "pycharm": {
     "name": "#%%\n",
     "is_executing": false
    }
   }
  },
  {
   "cell_type": "markdown",
   "source": [],
   "metadata": {
    "collapsed": false,
    "pycharm": {
     "name": "#%% md\n"
    }
   }
  },
  {
   "cell_type": "code",
   "execution_count": null,
   "outputs": [],
   "source": [
    "total_industry_overview = industry_esg_overview(total_score_df)\n",
    "save_to_csv(total_industry_overview, RESULT_DIR, fname='A股行业年度ESG基本信息', index=True)"
   ],
   "metadata": {
    "collapsed": false,
    "pycharm": {
     "name": "#%%\n"
    }
   }
  },
  {
   "cell_type": "code",
   "execution_count": 15,
   "outputs": [],
   "source": [
    "def boxplots_compare():\n",
    "    pass"
   ],
   "metadata": {
    "collapsed": false,
    "pycharm": {
     "name": "#%%\n",
     "is_executing": false
    }
   }
  },
  {
   "cell_type": "code",
   "execution_count": 27,
   "outputs": [],
   "source": [
    "year = 2019\n",
    "total_2019_df = total_score_df[total_score_df['REPORT_YEAR'] == year].reset_index(drop=True)\n",
    "zz_2019_df = zz_score_df[zz_score_df['REPORT_YEAR']==year].reset_index(drop=True)"
   ],
   "metadata": {
    "collapsed": false,
    "pycharm": {
     "name": "#%%\n",
     "is_executing": false
    }
   }
  },
  {
   "cell_type": "code",
   "execution_count": 28,
   "outputs": [],
   "source": [
    "total_2019_groups = total_2019_df.groupby(by=['INDUSTRY']).groups\n",
    "total_2019_esg = [total_2019_df.iloc[total_2019_groups[i]]['ESG_SCORE'].values for i in total_2019_groups]\n",
    "\n",
    "zz_2019_groups = zz_2019_df.groupby(by=['INDUSTRY']).groups\n",
    "zz_2019_esg = [zz_2019_df.iloc[zz_2019_groups[i]]['ESG_SCORE'].values for i in zz_2019_groups]"
   ],
   "metadata": {
    "collapsed": false,
    "pycharm": {
     "name": "#%%\n",
     "is_executing": false
    }
   }
  },
  {
   "cell_type": "code",
   "execution_count": 39,
   "outputs": [
    {
     "data": {
      "text/plain": "<Figure size 864x576 with 1 Axes>",
      "image/png": "[encoded data removed]"
     },
     "metadata": {
      "needs_background": "light"
     },
     "output_type": "display_data"
    }
   ],
   "source": [
    "comp_data = list()\n",
    "pos = list()\n",
    "labels = list()\n",
    "m = 0\n",
    "\n",
    "for i, l in enumerate(total_2019_groups):\n",
    "    if l in ['银行', '通信', '综合', '建筑装饰', '建筑材料', '休闲服务']:\n",
    "        comp_data.append(total_2019_esg[i])\n",
    "        comp_data.append(zz_2019_esg[i])\n",
    "        pos.append(1.5 * m + 1.)\n",
    "        pos.append(1.5 * m + 1.6)\n",
    "        labels.append('A股\\n' + l)\n",
    "        labels.append('中证800\\n' + l)\n",
    "        m += 1\n",
    "    \n",
    "fig, ax = plt.subplots(figsize=(12, 8))\n",
    "ax.boxplot(np.array(comp_data)[2*np.arange(6)], \n",
    "           positions = np.array(pos)[2*np.arange(6)], \n",
    "           boxprops={'color': '#87CEEB'})\n",
    "ax.set_xticklabels(np.array(labels)[2*np.arange(6)])\n",
    "ax.boxplot(np.array(comp_data)[2*np.arange(6)+1], \n",
    "           positions = np.array(pos)[2*np.arange(6)+1], \n",
    "           boxprops={'color': '#4682B4'})\n",
    "ax.set_xticklabels(np.array(labels)[2*np.arange(6)+1])\n",
    "plt.title('A股及中证800分行业对比')\n",
    "plt.savefig(os.path.join(FIGURE_DIR, 'A股及中证800分行业对比.png'))"
   ],
   "metadata": {
    "collapsed": false,
    "pycharm": {
     "name": "#%%\n",
     "is_executing": false
    }
   }
  },
  {
   "cell_type": "markdown",
   "source": [
    "2019年，中证800ESG评分明显高于A股，下面是一些值得注意的异常：\n",
    "* 中证800中银行业ESG评分非明显高于A股银行业，同时ESG中位数较A股更低。\n",
    "* 在通信，综合，建筑装饰，建筑材料以及休闲服务行业中，中证800ESG评分均大幅超过A股平均水平。\n",
    "* 食品饮料，钢铁，采掘，轻工制造，计算机，电气设备，电子，汽车，机械设备，有色金属，房地产，\n",
    "家用电器，国防军工，商业贸易，医药生物，化工，农林牧渔，公共事业，传媒，交通运输行业ESG评分明显高于A股。\n",
    "* 中证800ESG评分分散程度（四分位间距）大致与A股相近：\n",
    "    * 在通信，电气设备，电子，汽车，机械设备、商业贸易中，中证800ESG评分明显更为分散。"
   ],
   "metadata": {
    "collapsed": false,
    "pycharm": {
     "name": "#%% md\n"
    }
   }
  },
  {
   "cell_type": "code",
   "execution_count": null,
   "outputs": [],
   "source": [],
   "metadata": {
    "collapsed": false,
    "pycharm": {
     "name": "#%%\n"
    }
   }
  },
  {
   "cell_type": "code",
   "execution_count": 22,
   "outputs": [],
   "source": [
    "import statsmodels as sm\n",
    "from scipy import stats\n",
    "\n",
    "results = dict()\n",
    "for ind in total_2019_groups:\n",
    "    results[ind] = stats.mannwhitneyu(total_2019_df[total_2019_df['INDUSTRY'] == ind]['ESG_SCORE'], \n",
    "                                      total_2019_df[total_2019_df['INDUSTRY'] != ind]['ESG_SCORE'], \n",
    "                                      alternative='two-sided')"
   ],
   "metadata": {
    "collapsed": false,
    "pycharm": {
     "name": "#%%\n",
     "is_executing": false
    }
   }
  },
  {
   "cell_type": "code",
   "execution_count": 25,
   "outputs": [],
   "source": [
    "a = results['交通运输'].pvalue"
   ],
   "metadata": {
    "collapsed": false,
    "pycharm": {
     "name": "#%%\n",
     "is_executing": false
    }
   }
  },
  {
   "cell_type": "code",
   "execution_count": 30,
   "outputs": [
    {
     "data": {
      "text/plain": "MannwhitneyuResult(statistic=0.5, pvalue=0.0)"
     },
     "metadata": {},
     "output_type": "execute_result",
     "execution_count": 30
    }
   ],
   "source": [
    "stats.mannwhitneyu(range(10000), -np.arange(10000))"
   ],
   "metadata": {
    "collapsed": false,
    "pycharm": {
     "name": "#%%\n",
     "is_executing": false
    }
   }
  },
  {
   "cell_type": "code",
   "execution_count": null,
   "outputs": [],
   "source": [
    "zz_800_df = pd.read_excel(os.path.join(r\"D:\\QuantData\\中证指数\", \n",
    "                                       'esg_score_202012.xlsx'),\n",
    "                          )"
   ],
   "metadata": {
    "collapsed": false,
    "pycharm": {
     "name": "#%%\n"
    }
   }
  },
  {
   "cell_type": "code",
   "execution_count": 4,
   "outputs": [],
   "source": [
    "zz_800_df = pd.read_csv(os.path.join(r\"D:\\QuantData\\中证指数\", '中证800指数（2017-2019）.csv'))\n",
    "dates = pd.to_datetime(zz_800_df['DATETIME'])\n",
    "zz_800 = zz_800_df['000906.SH'].values"
   ],
   "metadata": {
    "collapsed": false,
    "pycharm": {
     "name": "#%%\n",
     "is_executing": false
    }
   }
  },
  {
   "cell_type": "code",
   "execution_count": 9,
   "outputs": [
    {
     "data": {
      "text/plain": "set()"
     },
     "metadata": {},
     "output_type": "execute_result",
     "execution_count": 9
    }
   ],
   "source": [
    "zz_800_close = pd.read_csv(os.path.join(r\"D:\\QuantData\\中证800成分股\", '中证800股收盘价（2017-2019）.csv'))\n",
    "zz_800_fs = pd.read_csv(os.path.join(r\"D:\\QuantData\\中证800成分股\", '中证800股自由流通市值（2017-2019）.csv'))\n",
    "\n",
    "stock_codes = list(map(lambda sc: sc.split('.')[0], zz_800_close['STOCK_CODE'].values))\n",
    "set(list(map(lambda sc: '0'*(6-len(str(sc))) + str(sc), zz_score_df['STOCK_CODE'].values))) - set(stock_codes)"
   ],
   "metadata": {
    "collapsed": false,
    "pycharm": {
     "name": "#%%\n",
     "is_executing": false
    }
   }
  },
  {
   "cell_type": "code",
   "execution_count": 6,
   "outputs": [
    {
     "traceback": [
      "\u001b[1;31m---------------------------------------------------------------------------\u001b[0m",
      "\u001b[1;31mValueError\u001b[0m                                Traceback (most recent call last)",
      "\u001b[1;32m<ipython-input-6-fce472e44d57>\u001b[0m in \u001b[0;36m<module>\u001b[1;34m\u001b[0m\n\u001b[0;32m      3\u001b[0m \u001b[1;33m\u001b[0m\u001b[0m\n\u001b[0;32m      4\u001b[0m \u001b[1;32mfor\u001b[0m \u001b[0md\u001b[0m \u001b[1;32min\u001b[0m \u001b[0mdates\u001b[0m\u001b[1;33m:\u001b[0m\u001b[1;33m\u001b[0m\u001b[1;33m\u001b[0m\u001b[0m\n\u001b[1;32m----> 5\u001b[1;33m     \u001b[0mfactor_scores\u001b[0m\u001b[1;33m[\u001b[0m\u001b[0md\u001b[0m\u001b[1;33m.\u001b[0m\u001b[0m_date_repr\u001b[0m\u001b[1;33m]\u001b[0m \u001b[1;33m=\u001b[0m \u001b[0mzz_score_df\u001b[0m\u001b[1;33m[\u001b[0m\u001b[0mzz_score_df\u001b[0m\u001b[1;33m[\u001b[0m\u001b[1;34m'REPORT_YEAR'\u001b[0m\u001b[1;33m]\u001b[0m\u001b[1;33m==\u001b[0m\u001b[0md\u001b[0m\u001b[1;33m.\u001b[0m\u001b[0myear\u001b[0m\u001b[1;33m]\u001b[0m\u001b[1;33m[\u001b[0m\u001b[1;34m'ESG_SCORE'\u001b[0m\u001b[1;33m]\u001b[0m\u001b[1;33m.\u001b[0m\u001b[0mvalues\u001b[0m\u001b[1;33m\u001b[0m\u001b[1;33m\u001b[0m\u001b[0m\n\u001b[0m\u001b[0;32m      6\u001b[0m \u001b[1;33m\u001b[0m\u001b[0m\n",
      "\u001b[1;32m~\\Anaconda3\\lib\\site-packages\\pandas\\core\\frame.py\u001b[0m in \u001b[0;36m__setitem__\u001b[1;34m(self, key, value)\u001b[0m\n\u001b[0;32m   3042\u001b[0m         \u001b[1;32melse\u001b[0m\u001b[1;33m:\u001b[0m\u001b[1;33m\u001b[0m\u001b[1;33m\u001b[0m\u001b[0m\n\u001b[0;32m   3043\u001b[0m             \u001b[1;31m# set column\u001b[0m\u001b[1;33m\u001b[0m\u001b[1;33m\u001b[0m\u001b[1;33m\u001b[0m\u001b[0m\n\u001b[1;32m-> 3044\u001b[1;33m             \u001b[0mself\u001b[0m\u001b[1;33m.\u001b[0m\u001b[0m_set_item\u001b[0m\u001b[1;33m(\u001b[0m\u001b[0mkey\u001b[0m\u001b[1;33m,\u001b[0m \u001b[0mvalue\u001b[0m\u001b[1;33m)\u001b[0m\u001b[1;33m\u001b[0m\u001b[1;33m\u001b[0m\u001b[0m\n\u001b[0m\u001b[0;32m   3045\u001b[0m \u001b[1;33m\u001b[0m\u001b[0m\n\u001b[0;32m   3046\u001b[0m     \u001b[1;32mdef\u001b[0m \u001b[0m_setitem_slice\u001b[0m\u001b[1;33m(\u001b[0m\u001b[0mself\u001b[0m\u001b[1;33m,\u001b[0m \u001b[0mkey\u001b[0m\u001b[1;33m:\u001b[0m \u001b[0mslice\u001b[0m\u001b[1;33m,\u001b[0m \u001b[0mvalue\u001b[0m\u001b[1;33m)\u001b[0m\u001b[1;33m:\u001b[0m\u001b[1;33m\u001b[0m\u001b[1;33m\u001b[0m\u001b[0m\n",
      "\u001b[1;32m~\\Anaconda3\\lib\\site-packages\\pandas\\core\\frame.py\u001b[0m in \u001b[0;36m_set_item\u001b[1;34m(self, key, value)\u001b[0m\n\u001b[0;32m   3118\u001b[0m         \"\"\"\n\u001b[0;32m   3119\u001b[0m         \u001b[0mself\u001b[0m\u001b[1;33m.\u001b[0m\u001b[0m_ensure_valid_index\u001b[0m\u001b[1;33m(\u001b[0m\u001b[0mvalue\u001b[0m\u001b[1;33m)\u001b[0m\u001b[1;33m\u001b[0m\u001b[1;33m\u001b[0m\u001b[0m\n\u001b[1;32m-> 3120\u001b[1;33m         \u001b[0mvalue\u001b[0m \u001b[1;33m=\u001b[0m \u001b[0mself\u001b[0m\u001b[1;33m.\u001b[0m\u001b[0m_sanitize_column\u001b[0m\u001b[1;33m(\u001b[0m\u001b[0mkey\u001b[0m\u001b[1;33m,\u001b[0m \u001b[0mvalue\u001b[0m\u001b[1;33m)\u001b[0m\u001b[1;33m\u001b[0m\u001b[1;33m\u001b[0m\u001b[0m\n\u001b[0m\u001b[0;32m   3121\u001b[0m         \u001b[0mNDFrame\u001b[0m\u001b[1;33m.\u001b[0m\u001b[0m_set_item\u001b[0m\u001b[1;33m(\u001b[0m\u001b[0mself\u001b[0m\u001b[1;33m,\u001b[0m \u001b[0mkey\u001b[0m\u001b[1;33m,\u001b[0m \u001b[0mvalue\u001b[0m\u001b[1;33m)\u001b[0m\u001b[1;33m\u001b[0m\u001b[1;33m\u001b[0m\u001b[0m\n\u001b[0;32m   3122\u001b[0m \u001b[1;33m\u001b[0m\u001b[0m\n",
      "\u001b[1;32m~\\Anaconda3\\lib\\site-packages\\pandas\\core\\frame.py\u001b[0m in \u001b[0;36m_sanitize_column\u001b[1;34m(self, key, value, broadcast)\u001b[0m\n\u001b[0;32m   3766\u001b[0m \u001b[1;33m\u001b[0m\u001b[0m\n\u001b[0;32m   3767\u001b[0m             \u001b[1;31m# turn me into an ndarray\u001b[0m\u001b[1;33m\u001b[0m\u001b[1;33m\u001b[0m\u001b[1;33m\u001b[0m\u001b[0m\n\u001b[1;32m-> 3768\u001b[1;33m             \u001b[0mvalue\u001b[0m \u001b[1;33m=\u001b[0m \u001b[0msanitize_index\u001b[0m\u001b[1;33m(\u001b[0m\u001b[0mvalue\u001b[0m\u001b[1;33m,\u001b[0m \u001b[0mself\u001b[0m\u001b[1;33m.\u001b[0m\u001b[0mindex\u001b[0m\u001b[1;33m)\u001b[0m\u001b[1;33m\u001b[0m\u001b[1;33m\u001b[0m\u001b[0m\n\u001b[0m\u001b[0;32m   3769\u001b[0m             \u001b[1;32mif\u001b[0m \u001b[1;32mnot\u001b[0m \u001b[0misinstance\u001b[0m\u001b[1;33m(\u001b[0m\u001b[0mvalue\u001b[0m\u001b[1;33m,\u001b[0m \u001b[1;33m(\u001b[0m\u001b[0mnp\u001b[0m\u001b[1;33m.\u001b[0m\u001b[0mndarray\u001b[0m\u001b[1;33m,\u001b[0m \u001b[0mIndex\u001b[0m\u001b[1;33m)\u001b[0m\u001b[1;33m)\u001b[0m\u001b[1;33m:\u001b[0m\u001b[1;33m\u001b[0m\u001b[1;33m\u001b[0m\u001b[0m\n\u001b[0;32m   3770\u001b[0m                 \u001b[1;32mif\u001b[0m \u001b[0misinstance\u001b[0m\u001b[1;33m(\u001b[0m\u001b[0mvalue\u001b[0m\u001b[1;33m,\u001b[0m \u001b[0mlist\u001b[0m\u001b[1;33m)\u001b[0m \u001b[1;32mand\u001b[0m \u001b[0mlen\u001b[0m\u001b[1;33m(\u001b[0m\u001b[0mvalue\u001b[0m\u001b[1;33m)\u001b[0m \u001b[1;33m>\u001b[0m \u001b[1;36m0\u001b[0m\u001b[1;33m:\u001b[0m\u001b[1;33m\u001b[0m\u001b[1;33m\u001b[0m\u001b[0m\n",
      "\u001b[1;32m~\\Anaconda3\\lib\\site-packages\\pandas\\core\\internals\\construction.py\u001b[0m in \u001b[0;36msanitize_index\u001b[1;34m(data, index)\u001b[0m\n\u001b[0;32m    746\u001b[0m     \u001b[1;32mif\u001b[0m \u001b[0mlen\u001b[0m\u001b[1;33m(\u001b[0m\u001b[0mdata\u001b[0m\u001b[1;33m)\u001b[0m \u001b[1;33m!=\u001b[0m \u001b[0mlen\u001b[0m\u001b[1;33m(\u001b[0m\u001b[0mindex\u001b[0m\u001b[1;33m)\u001b[0m\u001b[1;33m:\u001b[0m\u001b[1;33m\u001b[0m\u001b[1;33m\u001b[0m\u001b[0m\n\u001b[0;32m    747\u001b[0m         raise ValueError(\n\u001b[1;32m--> 748\u001b[1;33m             \u001b[1;34m\"Length of values \"\u001b[0m\u001b[1;33m\u001b[0m\u001b[1;33m\u001b[0m\u001b[0m\n\u001b[0m\u001b[0;32m    749\u001b[0m             \u001b[1;34mf\"({len(data)}) \"\u001b[0m\u001b[1;33m\u001b[0m\u001b[1;33m\u001b[0m\u001b[0m\n\u001b[0;32m    750\u001b[0m             \u001b[1;34m\"does not match length of index \"\u001b[0m\u001b[1;33m\u001b[0m\u001b[1;33m\u001b[0m\u001b[0m\n",
      "\u001b[1;31mValueError\u001b[0m: Length of values (811) does not match length of index (800)"
     ],
     "ename": "ValueError",
     "evalue": "Length of values (811) does not match length of index (800)",
     "output_type": "error"
    }
   ],
   "source": [
    "factor_scores = zz_800_close[['STOCK_CODE']]\n",
    "zz_score_df = zz_score_df.sort_values(['STOCK_CODE']).reset_index(drop=True)\n",
    "\n",
    "for d in dates:\n",
    "    factor_scores[d._date_repr] = zz_score_df[zz_score_df['REPORT_YEAR']==d.year]['ESG_SCORE'].values"
   ],
   "metadata": {
    "collapsed": false,
    "pycharm": {
     "name": "#%%\n",
     "is_executing": false
    }
   }
  },
  {
   "cell_type": "code",
   "execution_count": null,
   "outputs": [],
   "source": [
    "from factor.test import weighted_factor_value\n",
    "\n",
    "weighted_factor_value(factor_scores, zz_800_fs, zz_800_close, zz_800)"
   ],
   "metadata": {
    "collapsed": false,
    "pycharm": {
     "name": "#%%\n"
    }
   }
  },
  {
   "cell_type": "code",
   "execution_count": 10,
   "outputs": [
    {
     "data": {
      "text/plain": "895       6\n338       6\n2600      6\n553       6\n998       6\n         ..\n600566    3\n501       3\n2544      3\n600556    3\n2049      3\nName: STOCK_CODE, Length: 800, dtype: int64"
     },
     "metadata": {},
     "output_type": "execute_result",
     "execution_count": 10
    }
   ],
   "source": [
    "zz_score_df['STOCK_CODE'].value_counts()"
   ],
   "metadata": {
    "collapsed": false,
    "pycharm": {
     "name": "#%%\n",
     "is_executing": false
    }
   }
  },
  {
   "cell_type": "code",
   "execution_count": 8,
   "outputs": [
    {
     "data": {
      "text/plain": "(array([345., 346., 387., 264., 248., 205., 150., 155., 151., 182.]),\n array([0. , 0.1, 0.2, 0.3, 0.4, 0.5, 0.6, 0.7, 0.8, 0.9, 1. ]),\n <a list of 10 Patch objects>)"
     },
     "metadata": {},
     "output_type": "execute_result",
     "execution_count": 8
    },
    {
     "data": {
      "text/plain": "<Figure size 432x288 with 1 Axes>",
      "image/png": "[encoded data removed]"
     },
     "metadata": {
      "needs_background": "light"
     },
     "output_type": "display_data"
    }
   ],
   "source": [
    "plt.hist(zz_score_df['ESG_SCORE'])"
   ],
   "metadata": {
    "collapsed": false,
    "pycharm": {
     "name": "#%%\n",
     "is_executing": false
    }
   }
  },
  {
   "cell_type": "code",
   "execution_count": null,
   "outputs": [],
   "source": [
    "\n"
   ],
   "metadata": {
    "collapsed": false,
    "pycharm": {
     "name": "#%%\n"
    }
   }
  }
 ],
 "metadata": {
  "kernelspec": {
   "display_name": "Python 3",
   "language": "python",
   "name": "python3"
  },
  "language_info": {
   "codemirror_mode": {
    "name": "ipython",
    "version": 2
   },
   "file_extension": ".py",
   "mimetype": "text/x-python",
   "name": "python",
   "nbconvert_exporter": "python",
   "pygments_lexer": "ipython2",
   "version": "2.7.6"
  },
  "pycharm": {
   "stem_cell": {
    "cell_type": "raw",
    "source": [],
    "metadata": {
     "collapsed": false
    }
   }
  }
 },
 "nbformat": 4,
 "nbformat_minor": 0
}